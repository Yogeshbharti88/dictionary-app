{
 "cells": [
  {
   "cell_type": "markdown",
   "id": "6e5f44e6",
   "metadata": {},
   "source": [
    "# ENGLISH DICTIONARY APP"
   ]
  },
  {
   "cell_type": "code",
   "execution_count": 2,
   "id": "86361f27",
   "metadata": {},
   "outputs": [
    {
     "name": "stdout",
     "output_type": "stream",
     "text": [
      "******************************************** WELCOME TO MY DICTIONARY ************************************************\n",
      "\n",
      "\n",
      "\n",
      "\n",
      "~~~~~~~~~~~~~~~~~~~~~~~~~~~~~~~~~~~~~~~~~~~~~~~~ Main Menu ~~~~~~~~~~~~~~~~~~~~~~~~~~~~~~~~~~~~~~~~~~~~~~~~~~~~~~~~~~~~\n",
      "\n",
      "                                       Press 1 --> For Add a new word\n",
      "                                       Press 2 --> For Find the meaning\n",
      "                                       Press 3 --> For Update a word\n",
      "                                       Press 4 --> For Exit  \n",
      "Enter Your Choice  1 to 4 \n",
      "5\n",
      "Your Choice is wrong \n",
      "\n",
      "\n",
      "\n",
      "\n",
      "~~~~~~~~~~~~~~~~~~~~~~~~~~~~~~~~~~~~~~~~~~~~~~~~ Main Menu ~~~~~~~~~~~~~~~~~~~~~~~~~~~~~~~~~~~~~~~~~~~~~~~~~~~~~~~~~~~~\n",
      "\n",
      "                                       Press 1 --> For Add a new word\n",
      "                                       Press 2 --> For Find the meaning\n",
      "                                       Press 3 --> For Update a word\n",
      "                                       Press 4 --> For Exit  \n",
      "Enter Your Choice  1 to 4 \n",
      "4\n"
     ]
    },
    {
     "ename": "SystemExit",
     "evalue": "",
     "output_type": "error",
     "traceback": [
      "An exception has occurred, use %tb to see the full traceback.\n",
      "\u001b[1;31mSystemExit\u001b[0m\n"
     ]
    }
   ],
   "source": [
    "import sys\n",
    "import fileinput\n",
    "\n",
    "print(\"******************************************** WELCOME TO MY DICTIONARY ************************************************\")\n",
    "\n",
    "chiceStr='''\n",
    "\n",
    "\n",
    "\n",
    "~~~~~~~~~~~~~~~~~~~~~~~~~~~~~~~~~~~~~~~~~~~~~~~~ Main Menu ~~~~~~~~~~~~~~~~~~~~~~~~~~~~~~~~~~~~~~~~~~~~~~~~~~~~~~~~~~~~\n",
    "\n",
    "                                       Press 1 --> For Add a new word\n",
    "                                       Press 2 --> For Find the meaning\n",
    "                                       Press 3 --> For Update a word\n",
    "                                       Press 4 --> For Exit  '''\n",
    "def NEW():\n",
    "    while True:    \n",
    "        def mainFuc(): \n",
    "            print(chiceStr)\n",
    "            choice=int(input(\"Enter Your Choice  1 to 4 \\n\"))\n",
    "            if choice==1:\n",
    "                Add_New_Word()\n",
    "            elif choice==2:\n",
    "                Find_Meaning()\n",
    "            elif choice==3:\n",
    "                Update_Word()\n",
    "            elif choice==4:\n",
    "                Exit()\n",
    "            else:\n",
    "                print(\"Your Choice is wrong \")\n",
    "        mainFuc()\n",
    "\n",
    "    \n",
    "def Add_New_Word():\n",
    "    f = open('words.txt','a+')\n",
    "    word = input(\"Enter your word:\")\n",
    "    meaning = input(\"Enter the Meaning of the word:\")\n",
    "    a = word + \" : \" + meaning\n",
    "    f.write(\"\\n\")\n",
    "    f.write(a)\n",
    "    print(\"data stored sucsessfully!\")\n",
    "    f.close()\n",
    "\n",
    "\n",
    "def Find_Meaning():\n",
    "    readFile = open('words.txt', 'r')\n",
    "    print(readFile)\n",
    "    word = input(\"Enter word to find the meaning: \")\n",
    "    for i in readFile:\n",
    "        if word in i:\n",
    "            print(\"This word is present in the dictionary:\", i)\n",
    "            break\n",
    "    readFile.close()\n",
    "\n",
    "\n",
    "\n",
    "\n",
    "def Update_Word():\n",
    "    word = input(\"Enter text to be replaced:\")\n",
    "    replacement_Word = input(\"Enter replacement text:\")\n",
    "    f=open('words.txt','a+')\n",
    "    for line in f.readlines():\n",
    "        a=line.replace(word, replacement_Word)\n",
    "    f.close()\n",
    "    print('Word is successfully updated !')\n",
    "\n",
    "    \n",
    "    \n",
    "def Exit():\n",
    "    sys.exit()\n",
    "    \n",
    "NEW()\n",
    "Add_New_Word()\n",
    "Find_Meaning()\n",
    "Update_Word()\n",
    "Exit()"
   ]
  },
  {
   "cell_type": "code",
   "execution_count": null,
   "id": "0d7eadff",
   "metadata": {},
   "outputs": [],
   "source": []
  }
 ],
 "metadata": {
  "kernelspec": {
   "display_name": "Python 3 (ipykernel)",
   "language": "python",
   "name": "python3"
  },
  "language_info": {
   "codemirror_mode": {
    "name": "ipython",
    "version": 3
   },
   "file_extension": ".py",
   "mimetype": "text/x-python",
   "name": "python",
   "nbconvert_exporter": "python",
   "pygments_lexer": "ipython3",
   "version": "3.9.12"
  }
 },
 "nbformat": 4,
 "nbformat_minor": 5
}
